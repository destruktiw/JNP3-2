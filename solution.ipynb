{
 "cells": [
  {
   "cell_type": "code",
   "execution_count": 1,
   "metadata": {},
   "outputs": [],
   "source": [
    "import pandas as pd\n",
    "import numpy as np\n",
    "import json\n",
    "import re\n",
    "import matplotlib.pyplot as plt\n",
    "\n",
    "from sklearn.feature_extraction.text import TfidfVectorizer\n",
    "from sklearn.preprocessing import LabelEncoder\n",
    "from sklearn.svm import SVC\n",
    "from sklearn.ensemble import VotingClassifier\n",
    "from sklearn.model_selection import cross_val_score\n",
    "from sklearn.ensemble import ExtraTreesClassifier\n",
    "\n",
    "np.random.seed(seed=10)"
   ]
  },
  {
   "cell_type": "markdown",
   "metadata": {},
   "source": [
    "### Read json data"
   ]
  },
  {
   "cell_type": "code",
   "execution_count": 69,
   "metadata": {},
   "outputs": [
    {
     "name": "stdout",
     "output_type": "stream",
     "text": [
      "('train recipes: ', 30000)\n",
      "('test  recipes: ', 9774)\n",
      "\n",
      "('train cuisines', [u'brazilian', u'british', u'cajun_creole', u'chinese', u'filipino', u'french', u'greek', u'indian', u'irish', u'italian', u'jamaican', u'japanese', u'korean', u'mexican', u'moroccan', u'russian', u'southern_us', u'spanish', u'thai', u'vietnamese'])\n"
     ]
    }
   ],
   "source": [
    "# shuffle train set for cross-validation\n",
    "train = pd.read_json('cooking_train.json').sample(frac=1)\n",
    "test  = pd.read_json('cooking_test.json')\n",
    "\n",
    "X_train = train['ingredients']\n",
    "y_train = train['cuisine']\n",
    "X_test  = test['ingredients']\n",
    "\n",
    "print ('train recipes: ', train.shape[0])\n",
    "print ('test  recipes: ', test.shape[0])\n",
    "print\n",
    "print ('train cuisines', sorted(set(train.cuisine)))\n"
   ]
  },
  {
   "cell_type": "markdown",
   "metadata": {},
   "source": [
    "### Show file data layout"
   ]
  },
  {
   "cell_type": "code",
   "execution_count": 82,
   "metadata": {
    "scrolled": true
   },
   "outputs": [
    {
     "name": "stdout",
     "output_type": "stream",
     "text": [
      "           cuisine     id                                        ingredients\n",
      "18386      italian  18181  [light alfredo sauce, broccoli, vegetable oil,...\n",
      "19184       korean   1890  [chicken wings, honey, sesame oil, pepper, asi...\n",
      "18934      mexican   6016  [fresh cilantro, scallions, buttermilk, sour c...\n",
      "10939      british  32330  [vanilla, powdered sugar, sour cream, heavy cr...\n",
      "15036       french  48378  [cold water, salt, large eggs, cold milk, all-...\n",
      "11695        greek  19322  [dried currants, olive oil, hot water, pinenut...\n",
      "14290     filipino  10577  [sugar, dry bread crumbs, bread, evaporated mi...\n",
      "19195      spanish  36677  [green olives, parsley, sun-dried tomatoes, fr...\n",
      "22026  southern_us  13806  [flour, salt, butter, baking powder, shortenin...\n",
      "8435       italian   8297  [purple onion, fresh rosemary, sliced mushroom...\n"
     ]
    }
   ],
   "source": [
    "print train.head(10)"
   ]
  },
  {
   "cell_type": "markdown",
   "metadata": {},
   "source": [
    "### Show example ingredients"
   ]
  },
  {
   "cell_type": "code",
   "execution_count": 66,
   "metadata": {},
   "outputs": [
    {
     "name": "stdout",
     "output_type": "stream",
     "text": [
      "20412    [manchego cheese, serrano ham, extra-virgin ol...\n",
      "1296     [sesame seeds, green onions, granulated sugar,...\n",
      "3906     [golden raisins, salt, sugar, butter, baking p...\n",
      "20454    [cauliflower, fresh ginger, coarse salt, salt,...\n",
      "5200     [salmon, umeboshi, salt, nori, bonito flakes, ...\n",
      "13595    [chiles, green pepper, tomatoes, boneless skin...\n",
      "23974    [pepper, all-purpose flour, top round steak, f...\n",
      "6980     [coriander seeds, sea salt, fresh mint, frozen...\n",
      "2613     [shredded cheddar cheese, ranch dressing, mash...\n",
      "23871    [olive oil, raw sugar, seedless red grapes, fr...\n",
      "Name: ingredients, dtype: object\n"
     ]
    }
   ],
   "source": [
    "print train.ingredients[:10]"
   ]
  },
  {
   "cell_type": "code",
   "execution_count": 110,
   "metadata": {},
   "outputs": [
    {
     "data": {
      "text/plain": [
       "cuisine\n",
       "brazilian        352\n",
       "british          600\n",
       "cajun_creole    1160\n",
       "chinese         2014\n",
       "filipino         564\n",
       "french          1983\n",
       "greek            898\n",
       "indian          2285\n",
       "irish            498\n",
       "italian         5894\n",
       "jamaican         404\n",
       "japanese        1076\n",
       "korean           616\n",
       "mexican         4886\n",
       "moroccan         605\n",
       "russian          360\n",
       "southern_us     3280\n",
       "spanish          741\n",
       "thai            1164\n",
       "vietnamese       620\n",
       "dtype: int64"
      ]
     },
     "execution_count": 110,
     "metadata": {},
     "output_type": "execute_result"
    }
   ],
   "source": [
    "train.groupby(['cuisine']).size()"
   ]
  },
  {
   "cell_type": "markdown",
   "metadata": {},
   "source": [
    "### Vectorize X data"
   ]
  },
  {
   "cell_type": "code",
   "execution_count": 3,
   "metadata": {},
   "outputs": [],
   "source": [
    "# remove non-alphabet letters\n",
    "def preprocess_ingredient(i):\n",
    "    regex = re.compile('[^a-z]')\n",
    "    return regex.sub(' ', i.lower())\n",
    "\n",
    "# vectorize ingredients from recipe\n",
    "def preprocessor(r):\n",
    "    r = [preprocess_ingredient(i) for i in r]\n",
    "    return ' '.join(r).lower()\n",
    "\n",
    "vect = TfidfVectorizer(preprocessor=preprocessor)\n",
    "\n",
    "X_train = vect.fit_transform(X_train)\n",
    "X_test = vect.transform(X_test)"
   ]
  },
  {
   "cell_type": "markdown",
   "metadata": {},
   "source": [
    "### Show tf-idf transformation"
   ]
  },
  {
   "cell_type": "code",
   "execution_count": 81,
   "metadata": {},
   "outputs": [
    {
     "data": {
      "text/html": [
       "<div>\n",
       "<style scoped>\n",
       "    .dataframe tbody tr th:only-of-type {\n",
       "        vertical-align: middle;\n",
       "    }\n",
       "\n",
       "    .dataframe tbody tr th {\n",
       "        vertical-align: top;\n",
       "    }\n",
       "\n",
       "    .dataframe thead th {\n",
       "        text-align: right;\n",
       "    }\n",
       "</style>\n",
       "<table border=\"1\" class=\"dataframe\">\n",
       "  <thead>\n",
       "    <tr style=\"text-align: right;\">\n",
       "      <th></th>\n",
       "      <th>active</th>\n",
       "      <th>alfredo</th>\n",
       "      <th>all</th>\n",
       "      <th>apricots</th>\n",
       "      <th>asian</th>\n",
       "      <th>baking</th>\n",
       "      <th>basmati</th>\n",
       "      <th>black</th>\n",
       "      <th>bread</th>\n",
       "      <th>broccoli</th>\n",
       "      <th>...</th>\n",
       "      <th>sugar</th>\n",
       "      <th>sun</th>\n",
       "      <th>thighs</th>\n",
       "      <th>tomatoes</th>\n",
       "      <th>vanilla</th>\n",
       "      <th>vegetable</th>\n",
       "      <th>verde</th>\n",
       "      <th>water</th>\n",
       "      <th>wings</th>\n",
       "      <th>yeast</th>\n",
       "    </tr>\n",
       "  </thead>\n",
       "  <tbody>\n",
       "    <tr>\n",
       "      <th>0</th>\n",
       "      <td>0.000000</td>\n",
       "      <td>0.305927</td>\n",
       "      <td>0.000000</td>\n",
       "      <td>0.305927</td>\n",
       "      <td>0.00000</td>\n",
       "      <td>0.000000</td>\n",
       "      <td>0.000000</td>\n",
       "      <td>0.000000</td>\n",
       "      <td>0.000000</td>\n",
       "      <td>0.305927</td>\n",
       "      <td>...</td>\n",
       "      <td>0.000000</td>\n",
       "      <td>0.000000</td>\n",
       "      <td>0.000000</td>\n",
       "      <td>0.000000</td>\n",
       "      <td>0.000000</td>\n",
       "      <td>0.305927</td>\n",
       "      <td>0.000000</td>\n",
       "      <td>0.000000</td>\n",
       "      <td>0.00000</td>\n",
       "      <td>0.000000</td>\n",
       "    </tr>\n",
       "    <tr>\n",
       "      <th>1</th>\n",
       "      <td>0.000000</td>\n",
       "      <td>0.000000</td>\n",
       "      <td>0.000000</td>\n",
       "      <td>0.000000</td>\n",
       "      <td>0.22916</td>\n",
       "      <td>0.000000</td>\n",
       "      <td>0.000000</td>\n",
       "      <td>0.000000</td>\n",
       "      <td>0.000000</td>\n",
       "      <td>0.000000</td>\n",
       "      <td>...</td>\n",
       "      <td>0.000000</td>\n",
       "      <td>0.000000</td>\n",
       "      <td>0.000000</td>\n",
       "      <td>0.000000</td>\n",
       "      <td>0.000000</td>\n",
       "      <td>0.000000</td>\n",
       "      <td>0.000000</td>\n",
       "      <td>0.000000</td>\n",
       "      <td>0.22916</td>\n",
       "      <td>0.000000</td>\n",
       "    </tr>\n",
       "    <tr>\n",
       "      <th>2</th>\n",
       "      <td>0.000000</td>\n",
       "      <td>0.000000</td>\n",
       "      <td>0.000000</td>\n",
       "      <td>0.000000</td>\n",
       "      <td>0.00000</td>\n",
       "      <td>0.000000</td>\n",
       "      <td>0.000000</td>\n",
       "      <td>0.000000</td>\n",
       "      <td>0.000000</td>\n",
       "      <td>0.000000</td>\n",
       "      <td>...</td>\n",
       "      <td>0.000000</td>\n",
       "      <td>0.000000</td>\n",
       "      <td>0.000000</td>\n",
       "      <td>0.000000</td>\n",
       "      <td>0.000000</td>\n",
       "      <td>0.000000</td>\n",
       "      <td>0.312508</td>\n",
       "      <td>0.000000</td>\n",
       "      <td>0.00000</td>\n",
       "      <td>0.000000</td>\n",
       "    </tr>\n",
       "    <tr>\n",
       "      <th>3</th>\n",
       "      <td>0.000000</td>\n",
       "      <td>0.000000</td>\n",
       "      <td>0.000000</td>\n",
       "      <td>0.000000</td>\n",
       "      <td>0.00000</td>\n",
       "      <td>0.000000</td>\n",
       "      <td>0.000000</td>\n",
       "      <td>0.000000</td>\n",
       "      <td>0.000000</td>\n",
       "      <td>0.000000</td>\n",
       "      <td>...</td>\n",
       "      <td>0.248826</td>\n",
       "      <td>0.000000</td>\n",
       "      <td>0.000000</td>\n",
       "      <td>0.000000</td>\n",
       "      <td>0.292705</td>\n",
       "      <td>0.000000</td>\n",
       "      <td>0.000000</td>\n",
       "      <td>0.000000</td>\n",
       "      <td>0.00000</td>\n",
       "      <td>0.000000</td>\n",
       "    </tr>\n",
       "    <tr>\n",
       "      <th>4</th>\n",
       "      <td>0.000000</td>\n",
       "      <td>0.000000</td>\n",
       "      <td>0.309029</td>\n",
       "      <td>0.000000</td>\n",
       "      <td>0.00000</td>\n",
       "      <td>0.000000</td>\n",
       "      <td>0.000000</td>\n",
       "      <td>0.000000</td>\n",
       "      <td>0.000000</td>\n",
       "      <td>0.000000</td>\n",
       "      <td>...</td>\n",
       "      <td>0.000000</td>\n",
       "      <td>0.000000</td>\n",
       "      <td>0.000000</td>\n",
       "      <td>0.000000</td>\n",
       "      <td>0.000000</td>\n",
       "      <td>0.000000</td>\n",
       "      <td>0.000000</td>\n",
       "      <td>0.229834</td>\n",
       "      <td>0.00000</td>\n",
       "      <td>0.000000</td>\n",
       "    </tr>\n",
       "    <tr>\n",
       "      <th>5</th>\n",
       "      <td>0.000000</td>\n",
       "      <td>0.000000</td>\n",
       "      <td>0.000000</td>\n",
       "      <td>0.000000</td>\n",
       "      <td>0.00000</td>\n",
       "      <td>0.000000</td>\n",
       "      <td>0.234242</td>\n",
       "      <td>0.234242</td>\n",
       "      <td>0.000000</td>\n",
       "      <td>0.000000</td>\n",
       "      <td>...</td>\n",
       "      <td>0.000000</td>\n",
       "      <td>0.199127</td>\n",
       "      <td>0.000000</td>\n",
       "      <td>0.199127</td>\n",
       "      <td>0.000000</td>\n",
       "      <td>0.000000</td>\n",
       "      <td>0.000000</td>\n",
       "      <td>0.348425</td>\n",
       "      <td>0.00000</td>\n",
       "      <td>0.000000</td>\n",
       "    </tr>\n",
       "    <tr>\n",
       "      <th>6</th>\n",
       "      <td>0.218644</td>\n",
       "      <td>0.000000</td>\n",
       "      <td>0.000000</td>\n",
       "      <td>0.000000</td>\n",
       "      <td>0.00000</td>\n",
       "      <td>0.000000</td>\n",
       "      <td>0.000000</td>\n",
       "      <td>0.000000</td>\n",
       "      <td>0.655933</td>\n",
       "      <td>0.000000</td>\n",
       "      <td>...</td>\n",
       "      <td>0.185868</td>\n",
       "      <td>0.000000</td>\n",
       "      <td>0.000000</td>\n",
       "      <td>0.000000</td>\n",
       "      <td>0.000000</td>\n",
       "      <td>0.000000</td>\n",
       "      <td>0.000000</td>\n",
       "      <td>0.000000</td>\n",
       "      <td>0.00000</td>\n",
       "      <td>0.218644</td>\n",
       "    </tr>\n",
       "    <tr>\n",
       "      <th>7</th>\n",
       "      <td>0.000000</td>\n",
       "      <td>0.000000</td>\n",
       "      <td>0.000000</td>\n",
       "      <td>0.000000</td>\n",
       "      <td>0.00000</td>\n",
       "      <td>0.000000</td>\n",
       "      <td>0.000000</td>\n",
       "      <td>0.000000</td>\n",
       "      <td>0.000000</td>\n",
       "      <td>0.000000</td>\n",
       "      <td>...</td>\n",
       "      <td>0.000000</td>\n",
       "      <td>0.218924</td>\n",
       "      <td>0.000000</td>\n",
       "      <td>0.218924</td>\n",
       "      <td>0.000000</td>\n",
       "      <td>0.000000</td>\n",
       "      <td>0.000000</td>\n",
       "      <td>0.191533</td>\n",
       "      <td>0.00000</td>\n",
       "      <td>0.000000</td>\n",
       "    </tr>\n",
       "    <tr>\n",
       "      <th>8</th>\n",
       "      <td>0.000000</td>\n",
       "      <td>0.000000</td>\n",
       "      <td>0.000000</td>\n",
       "      <td>0.000000</td>\n",
       "      <td>0.00000</td>\n",
       "      <td>0.438719</td>\n",
       "      <td>0.000000</td>\n",
       "      <td>0.000000</td>\n",
       "      <td>0.000000</td>\n",
       "      <td>0.000000</td>\n",
       "      <td>...</td>\n",
       "      <td>0.000000</td>\n",
       "      <td>0.000000</td>\n",
       "      <td>0.000000</td>\n",
       "      <td>0.000000</td>\n",
       "      <td>0.000000</td>\n",
       "      <td>0.000000</td>\n",
       "      <td>0.000000</td>\n",
       "      <td>0.000000</td>\n",
       "      <td>0.00000</td>\n",
       "      <td>0.000000</td>\n",
       "    </tr>\n",
       "    <tr>\n",
       "      <th>9</th>\n",
       "      <td>0.000000</td>\n",
       "      <td>0.000000</td>\n",
       "      <td>0.000000</td>\n",
       "      <td>0.000000</td>\n",
       "      <td>0.00000</td>\n",
       "      <td>0.000000</td>\n",
       "      <td>0.000000</td>\n",
       "      <td>0.000000</td>\n",
       "      <td>0.000000</td>\n",
       "      <td>0.000000</td>\n",
       "      <td>...</td>\n",
       "      <td>0.000000</td>\n",
       "      <td>0.000000</td>\n",
       "      <td>0.360732</td>\n",
       "      <td>0.000000</td>\n",
       "      <td>0.000000</td>\n",
       "      <td>0.000000</td>\n",
       "      <td>0.000000</td>\n",
       "      <td>0.000000</td>\n",
       "      <td>0.00000</td>\n",
       "      <td>0.000000</td>\n",
       "    </tr>\n",
       "  </tbody>\n",
       "</table>\n",
       "<p>10 rows × 87 columns</p>\n",
       "</div>"
      ],
      "text/plain": [
       "     active   alfredo       all  apricots    asian    baking   basmati  \\\n",
       "0  0.000000  0.305927  0.000000  0.305927  0.00000  0.000000  0.000000   \n",
       "1  0.000000  0.000000  0.000000  0.000000  0.22916  0.000000  0.000000   \n",
       "2  0.000000  0.000000  0.000000  0.000000  0.00000  0.000000  0.000000   \n",
       "3  0.000000  0.000000  0.000000  0.000000  0.00000  0.000000  0.000000   \n",
       "4  0.000000  0.000000  0.309029  0.000000  0.00000  0.000000  0.000000   \n",
       "5  0.000000  0.000000  0.000000  0.000000  0.00000  0.000000  0.234242   \n",
       "6  0.218644  0.000000  0.000000  0.000000  0.00000  0.000000  0.000000   \n",
       "7  0.000000  0.000000  0.000000  0.000000  0.00000  0.000000  0.000000   \n",
       "8  0.000000  0.000000  0.000000  0.000000  0.00000  0.438719  0.000000   \n",
       "9  0.000000  0.000000  0.000000  0.000000  0.00000  0.000000  0.000000   \n",
       "\n",
       "      black     bread  broccoli    ...        sugar       sun    thighs  \\\n",
       "0  0.000000  0.000000  0.305927    ...     0.000000  0.000000  0.000000   \n",
       "1  0.000000  0.000000  0.000000    ...     0.000000  0.000000  0.000000   \n",
       "2  0.000000  0.000000  0.000000    ...     0.000000  0.000000  0.000000   \n",
       "3  0.000000  0.000000  0.000000    ...     0.248826  0.000000  0.000000   \n",
       "4  0.000000  0.000000  0.000000    ...     0.000000  0.000000  0.000000   \n",
       "5  0.234242  0.000000  0.000000    ...     0.000000  0.199127  0.000000   \n",
       "6  0.000000  0.655933  0.000000    ...     0.185868  0.000000  0.000000   \n",
       "7  0.000000  0.000000  0.000000    ...     0.000000  0.218924  0.000000   \n",
       "8  0.000000  0.000000  0.000000    ...     0.000000  0.000000  0.000000   \n",
       "9  0.000000  0.000000  0.000000    ...     0.000000  0.000000  0.360732   \n",
       "\n",
       "   tomatoes   vanilla  vegetable     verde     water    wings     yeast  \n",
       "0  0.000000  0.000000   0.305927  0.000000  0.000000  0.00000  0.000000  \n",
       "1  0.000000  0.000000   0.000000  0.000000  0.000000  0.22916  0.000000  \n",
       "2  0.000000  0.000000   0.000000  0.312508  0.000000  0.00000  0.000000  \n",
       "3  0.000000  0.292705   0.000000  0.000000  0.000000  0.00000  0.000000  \n",
       "4  0.000000  0.000000   0.000000  0.000000  0.229834  0.00000  0.000000  \n",
       "5  0.199127  0.000000   0.000000  0.000000  0.348425  0.00000  0.000000  \n",
       "6  0.000000  0.000000   0.000000  0.000000  0.000000  0.00000  0.218644  \n",
       "7  0.218924  0.000000   0.000000  0.000000  0.191533  0.00000  0.000000  \n",
       "8  0.000000  0.000000   0.000000  0.000000  0.000000  0.00000  0.000000  \n",
       "9  0.000000  0.000000   0.000000  0.000000  0.000000  0.00000  0.000000  \n",
       "\n",
       "[10 rows x 87 columns]"
      ]
     },
     "execution_count": 81,
     "metadata": {},
     "output_type": "execute_result"
    }
   ],
   "source": [
    "show_vect = TfidfVectorizer(preprocessor=preprocessor)\n",
    "vector = show_vect.fit_transform(recipes).todense()\n",
    "\n",
    "pd.DataFrame(data=vector, columns=sorted(show_vect.vocabulary_))"
   ]
  },
  {
   "cell_type": "markdown",
   "metadata": {},
   "source": [
    "### Transform cuisines to labels"
   ]
  },
  {
   "cell_type": "code",
   "execution_count": 4,
   "metadata": {},
   "outputs": [],
   "source": [
    "le = LabelEncoder()\n",
    "\n",
    "y_train = le.fit_transform(y_train)"
   ]
  },
  {
   "cell_type": "markdown",
   "metadata": {},
   "source": [
    "### Prediction"
   ]
  },
  {
   "cell_type": "code",
   "execution_count": 5,
   "metadata": {},
   "outputs": [
    {
     "name": "stdout",
     "output_type": "stream",
     "text": [
      "[LibSVM]"
     ]
    },
    {
     "name": "stderr",
     "output_type": "stream",
     "text": [
      "/home/hubert/Documents/JNP_2/local/lib/python2.7/site-packages/sklearn/preprocessing/label.py:151: DeprecationWarning: The truth value of an empty array is ambiguous. Returning False, but in future this will result in an error. Use `array.size > 0` to check that an array is not empty.\n",
      "  if diff:\n",
      "/home/hubert/Documents/JNP_2/local/lib/python2.7/site-packages/sklearn/preprocessing/label.py:151: DeprecationWarning: The truth value of an empty array is ambiguous. Returning False, but in future this will result in an error. Use `array.size > 0` to check that an array is not empty.\n",
      "  if diff:\n"
     ]
    }
   ],
   "source": [
    "model1 = ExtraTreesClassifier(n_estimators=150, random_state=10)\n",
    "model2 = SVC(C=10, gamma=1, verbose=True, cache_size=1000, probability=True, random_state=10)\n",
    "\n",
    "model = VotingClassifier(estimators=[('svc', model2), ('extra', model1)], voting='soft', weights=[2,1])\n",
    "model.fit(X_train, y_train)\n",
    "\n",
    "y_test = model.predict(X_test)\n",
    "prediction = le.inverse_transform(y_test)"
   ]
  },
  {
   "cell_type": "markdown",
   "metadata": {},
   "source": [
    "### Save results to file .csv"
   ]
  },
  {
   "cell_type": "code",
   "execution_count": 7,
   "metadata": {},
   "outputs": [],
   "source": [
    "submission = test.copy()\n",
    "\n",
    "submission['cuisine'] = prediction\n",
    "submission.to_csv('submission.csv', index=False, columns=['id', 'cuisine'])"
   ]
  },
  {
   "cell_type": "markdown",
   "metadata": {},
   "source": [
    "### Important features in extra trees submodel"
   ]
  },
  {
   "cell_type": "code",
   "execution_count": 93,
   "metadata": {},
   "outputs": [
    {
     "name": "stdout",
     "output_type": "stream",
     "text": [
      "Most important features in extra trees:\n",
      "1. soy (0.011242)\n",
      "2. cilantro (0.010838)\n",
      "3. cheese (0.010585)\n",
      "4. parmesan (0.010193)\n",
      "5. tortillas (0.010101)\n",
      "6. olive (0.010048)\n",
      "7. salt (0.009864)\n",
      "8. oil (0.009507)\n",
      "9. sauce (0.009319)\n",
      "10. ginger (0.009255)\n",
      "11. sugar (0.009205)\n",
      "12. cumin (0.008793)\n",
      "13. lime (0.008499)\n",
      "14. pepper (0.008094)\n",
      "15. garlic (0.007883)\n",
      "16. butter (0.007788)\n",
      "17. sesame (0.007156)\n",
      "18. corn (0.007044)\n",
      "19. water (0.006881)\n",
      "20. milk (0.006806)\n",
      "21. fish (0.006682)\n",
      "22. ground (0.006606)\n",
      "23. basil (0.006569)\n",
      "24. onions (0.006516)\n",
      "25. fresh (0.006353)\n",
      "26. salsa (0.006311)\n",
      "27. rice (0.006202)\n",
      "28. eggs (0.006177)\n",
      "29. flour (0.006069)\n",
      "30. powder (0.006062)\n",
      "31. curry (0.006038)\n",
      "32. garam (0.005766)\n",
      "33. tomatoes (0.005464)\n",
      "34. lemon (0.005316)\n",
      "35. green (0.005289)\n",
      "36. chili (0.005285)\n",
      "37. black (0.005188)\n",
      "38. sour (0.005043)\n",
      "39. masala (0.005034)\n",
      "40. grated (0.005032)\n",
      "41. juice (0.005003)\n",
      "42. chicken (0.004997)\n",
      "43. parsley (0.004968)\n",
      "44. wine (0.004849)\n",
      "45. white (0.004759)\n",
      "46. avocado (0.004675)\n",
      "47. chilies (0.004673)\n",
      "48. red (0.004579)\n",
      "49. buttermilk (0.004526)\n",
      "50. cream (0.004475)\n"
     ]
    }
   ],
   "source": [
    "tree_model = model.estimators_[1]\n",
    "\n",
    "#invert map\n",
    "inv_map = {v: k for k, v in vect.vocabulary_.iteritems()}\n",
    "\n",
    "importances = tree_model.feature_importances_\n",
    "sorted_feat = np.argsort(importances)[::-1]\n",
    "\n",
    "print(\"Most important features in extra trees:\")\n",
    "for feature in range(50):\n",
    "    print(\"%d. %s (%f)\" % (feature + 1, str(inv_map[sorted_feat[feature]]), importances[sorted_feat[feature]]))"
   ]
  },
  {
   "cell_type": "markdown",
   "metadata": {},
   "source": [
    "### Indicative plot showing how much more important are some features than others"
   ]
  },
  {
   "cell_type": "code",
   "execution_count": 42,
   "metadata": {},
   "outputs": [
    {
     "data": {
      "image/png": "[encoded data removed]",
      "text/plain": [
       "<matplotlib.figure.Figure at 0x7ff3b0beb850>"
      ]
     },
     "metadata": {},
     "output_type": "display_data"
    }
   ],
   "source": [
    "plt.figure()\n",
    "plt.title(\"Feature importances\")\n",
    "plt.bar(range(X_train.shape[1]), importances[sorted_feat], align=\"center\")\n",
    "plt.show()"
   ]
  },
  {
   "cell_type": "markdown",
   "metadata": {},
   "source": [
    "### Print number of supporting vectors in each class"
   ]
  },
  {
   "cell_type": "code",
   "execution_count": 64,
   "metadata": {},
   "outputs": [
    {
     "name": "stdout",
     "output_type": "stream",
     "text": [
      "Number of supporting vectors: 21714\n"
     ]
    }
   ],
   "source": [
    "vector_model = model.estimators_[0]\n",
    "\n",
    "print \"Number of supporting vectors: \" + str(len(vector_model.support_))"
   ]
  },
  {
   "cell_type": "code",
   "execution_count": 139,
   "metadata": {},
   "outputs": [
    {
     "name": "stdout",
     "output_type": "stream",
     "text": [
      " 1.    brazilian - 319/352 \t 90.62%\n",
      " 2.      british - 590/600 \t 98.33%\n",
      " 3. cajun_creole - 905/1160 \t 78.02%\n",
      " 4.      chinese - 1475/2014 \t 73.24%\n",
      " 5.     filipino - 527/564 \t 93.44%\n",
      " 6.       french - 1876/1983 \t 94.60%\n",
      " 7.        greek - 685/898 \t 76.28%\n",
      " 8.       indian - 1449/2285 \t 63.41%\n",
      " 9.        irish - 476/498 \t 95.58%\n",
      "10.      italian - 3755/5894 \t 63.71%\n",
      "11.     jamaican - 344/404 \t 85.15%\n",
      "12.     japanese - 792/1076 \t 73.61%\n",
      "13.       korean - 479/616 \t 77.76%\n",
      "14.      mexican - 2358/4886 \t 48.26%\n",
      "15.     moroccan - 469/605 \t 77.52%\n",
      "16.      russian - 345/360 \t 95.83%\n",
      "17.  southern_us - 2716/3280 \t 82.80%\n",
      "18.      spanish - 697/741 \t 94.06%\n",
      "19.         thai - 877/1164 \t 75.34%\n",
      "20.   vietnamese - 580/620 \t 93.55%\n"
     ]
    }
   ],
   "source": [
    "for cuisine in range(0, 20):\n",
    "    name = str(le.classes_[cuisine])\n",
    "    supp_vect = vector_model.n_support_[cuisine]\n",
    "    total_vect = train.groupby(['cuisine']).size()[name]\n",
    "    print \"%2d. %12s - %d/%d \\t %.2f%%\" % (cuisine + 1, name, supp_vect, total_vect, 100.0*supp_vect/total_vect)"
   ]
  },
  {
   "cell_type": "code",
   "execution_count": null,
   "metadata": {},
   "outputs": [],
   "source": []
  }
 ],
 "metadata": {
  "kernelspec": {
   "display_name": "Python 2",
   "language": "python",
   "name": "python2"
  },
  "language_info": {
   "codemirror_mode": {
    "name": "ipython",
    "version": 2
   },
   "file_extension": ".py",
   "mimetype": "text/x-python",
   "name": "python",
   "nbconvert_exporter": "python",
   "pygments_lexer": "ipython2",
   "version": "2.7.14"
  }
 },
 "nbformat": 4,
 "nbformat_minor": 1
}
